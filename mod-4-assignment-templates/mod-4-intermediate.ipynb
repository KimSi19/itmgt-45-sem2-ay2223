{
  "nbformat": 4,
  "nbformat_minor": 0,
  "metadata": {
    "colab": {
      "provenance": []
    },
    "kernelspec": {
      "name": "python3",
      "display_name": "Python 3"
    },
    "language_info": {
      "name": "python"
    }
  },
  "cells": [
    {
      "cell_type": "code",
      "execution_count": 189,
      "metadata": {
        "id": "wqYJ-nulEvBU"
      },
      "outputs": [],
      "source": [
        "'''Module 3: Individual Programming Assignment 1\n",
        "Thinking Like a Programmer\n",
        "This assignment covers your intermediate proficiency with Python.\n",
        "'''\n",
        "\n",
        "def shift_letter(letter, shift):\n",
        "    '''Shift Letter. \n",
        "    4 points.\n",
        "    \n",
        "    Shift a letter right by the given number.\n",
        "    Wrap the letter around if it reaches the end of the alphabet.\n",
        "    Examples:\n",
        "    shift_letter(\"A\", 0) -> \"A\"\n",
        "    shift_letter(\"A\", 2) -> \"C\"\n",
        "    shift_letter(\"Z\", 1) -> \"A\"\n",
        "    shift_letter(\"X\", 5) -> \"C\"\n",
        "    shift_letter(\" \", _) -> \" \"\n",
        "    *Note: the single underscore `_` is used to acknowledge the presence\n",
        "        of a value without caring about its contents.\n",
        "    Parameters\n",
        "    ----------\n",
        "    letter: str\n",
        "        a single uppercase English letter, or a space.\n",
        "    shift: int\n",
        "        the number by which to shift the letter. \n",
        "    Returns\n",
        "    -------\n",
        "    str\n",
        "        the letter, shifted appropriately, if a letter.\n",
        "        a single space if the original letter was a space.\n",
        "    '''\n",
        "    # Replace `pass` with your code. \n",
        "    # Stay within the function. Only use the parameters as input. The function should return your answer.\n",
        "\n",
        "    alphabet = \"ABCDEFGHIJKLMNOPQRSTUVWXYZ\"\n",
        "    alphaDict = {'A': 1, 'B': 2, 'C': 3, 'D': 4, 'E': 5, 'F': 6, 'G': 7, 'H': 8, 'I': 9, 'J': 10, 'K': 11, 'L': 12, 'M': 13, 'N': 14, 'O': 15, 'P': 16, 'Q': 17, 'R': 18, 'S': 19, 'T': 20, 'U': 21, 'V': 22, 'W': 23, 'X': 24, 'Y': 25, 'Z': 26}\n",
        "\n",
        "    if letter == \" \":\n",
        "      return \" \"\n",
        "    else:\n",
        "      shifted = alphaDict[letter] + shift\n",
        "      return alphabet[(shifted - 1) % 26]\n",
        "\n",
        "\n",
        "def caesar_cipher(message, shift):\n",
        "    '''Caesar Cipher. \n",
        "    6 points.\n",
        "    \n",
        "    Apply a shift number to a string of uppercase English letters and spaces.\n",
        "    Parameters\n",
        "    ----------\n",
        "    message: str\n",
        "        a string of uppercase English letters and spaces.\n",
        "    shift: int\n",
        "        the number by which to shift the letters. \n",
        "    Returns\n",
        "    -------\n",
        "    str\n",
        "        the message, shifted appropriately.\n",
        "    '''\n",
        "    # Replace `pass` with your code. \n",
        "    # Stay within the function. Only use the parameters as input. The function should return your answer.\n",
        "    output = \"\"\n",
        "    for x in message:\n",
        "      output += shift_letter(x,shift)\n",
        "    return output\n",
        "\n",
        "def shift_by_letter(letter, letter_shift):\n",
        "    '''Shift By Letter. \n",
        "    4 points.\n",
        "    \n",
        "    Shift a letter to the right using the number equivalent of another letter.\n",
        "    The shift letter is any letter from A to Z, where A represents 0, B represents 1, \n",
        "        ..., Z represents 25.\n",
        "    Examples:\n",
        "    shift_by_letter(\"A\", \"A\") -> \"A\"\n",
        "    shift_by_letter(\"A\", \"C\") -> \"C\"\n",
        "    shift_by_letter(\"B\", \"K\") -> \"L\"\n",
        "    shift_by_letter(\" \", _) -> \" \"\n",
        "    Parameters\n",
        "    ----------\n",
        "    letter: str\n",
        "        a single uppercase English letter, or a space.\n",
        "    letter_shift: str\n",
        "        a single uppercase English letter.\n",
        "    Returns\n",
        "    -------\n",
        "    str\n",
        "        the letter, shifted appropriately.\n",
        "    '''\n",
        "    # Replace `pass` with your code. \n",
        "    # Stay within the function. Only use the parameters as input. The function should return your answer.\n",
        "    alphabet = \"ABCDEFGHIJKLMNOPQRSTUVWXYZ\"\n",
        "    alphaDict = {'A': 0, 'B': 1, 'C': 2, 'D': 3, 'E': 4, 'F': 5, 'G': 6, 'H': 7, 'I': 8, 'J': 9, 'K': 10, 'L': 11, 'M': 12, 'N': 13, 'O': 14, 'P': 15, 'Q': 16, 'R': 17, 'S': 18, 'T': 19, 'U': 20, 'V': 21, 'W': 22, 'X': 23, 'Y': 24, 'Z': 25}\n",
        "\n",
        "    if letter == \" \":\n",
        "      return \" \"\n",
        "    else:\n",
        "      shifted = alphaDict[letter] + alphaDict[letter_shift]\n",
        "      return alphabet[(shifted) % 26]\n",
        "\n",
        "def vigenere_cipher(message, key):\n",
        "    '''Vigenere Cipher. \n",
        "    6 points.\n",
        "    \n",
        "    Encrypts a message using a keyphrase instead of a static number.\n",
        "    Every letter in the message is shifted by the number represented by the \n",
        "        respective letter in the key.\n",
        "    Spaces should be ignored.\n",
        "    Example:\n",
        "    vigenere_cipher(\"A C\", \"KEY\") -> \"K A\"\n",
        "    If needed, the keyphrase is extended to match the length of the key.\n",
        "        If the key is \"KEY\" and the message is \"LONGTEXT\",\n",
        "        the key will be extended to be \"KEYKEYKE\".\n",
        "    Parameters\n",
        "    ----------\n",
        "    message: str\n",
        "        a string of uppercase English letters and spaces.\n",
        "    key: str\n",
        "        a string of uppercase English letters. Will never be longer than the message.\n",
        "        Will never contain spaces.\n",
        "    Returns\n",
        "    -------\n",
        "    str\n",
        "        the message, shifted appropriately.\n",
        "    '''\n",
        "    # Replace `pass` with your code. \n",
        "    # Stay within the function. Only use the parameters as input. The function should return your answer.\n",
        "    output = \"\"\n",
        "    if len(message) >= len(key):\n",
        "      key = key * (len(message)//len(key) +1)\n",
        "      key = key[:len(message)]\n",
        "\n",
        "    for x in range(0, len(message)):\n",
        "        output += shift_by_letter(message[x], key[x])\n",
        "    return output"
      ]
    },
    {
      "cell_type": "markdown",
      "source": [
        "# Testing"
      ],
      "metadata": {
        "id": "VZP1xiiScY-D"
      }
    },
    {
      "cell_type": "code",
      "source": [
        "shift_letter(\"Y\", 2)"
      ],
      "metadata": {
        "colab": {
          "base_uri": "https://localhost:8080/",
          "height": 35
        },
        "id": "7wlLQlXdHwmn",
        "outputId": "be6f6797-cc70-4c32-9fa5-3eb837b0e4c5"
      },
      "execution_count": 190,
      "outputs": [
        {
          "output_type": "execute_result",
          "data": {
            "text/plain": [
              "'A'"
            ],
            "application/vnd.google.colaboratory.intrinsic+json": {
              "type": "string"
            }
          },
          "metadata": {},
          "execution_count": 190
        }
      ]
    },
    {
      "cell_type": "code",
      "source": [
        "caesar_cipher(\"I LIKE TO PLAY ALL DAY\", 54)"
      ],
      "metadata": {
        "colab": {
          "base_uri": "https://localhost:8080/",
          "height": 35
        },
        "id": "NudyTpJMWoWv",
        "outputId": "ee4ec0b6-5db7-498f-b623-027090619be3"
      },
      "execution_count": 191,
      "outputs": [
        {
          "output_type": "execute_result",
          "data": {
            "text/plain": [
              "'K NKMG VQ RNCA CNN FCA'"
            ],
            "application/vnd.google.colaboratory.intrinsic+json": {
              "type": "string"
            }
          },
          "metadata": {},
          "execution_count": 191
        }
      ]
    },
    {
      "cell_type": "code",
      "source": [
        "shift_by_letter(\"A\", \"A\")"
      ],
      "metadata": {
        "colab": {
          "base_uri": "https://localhost:8080/",
          "height": 35
        },
        "id": "PEVJXDRTaBA1",
        "outputId": "c587a6b7-12d8-4e67-8d72-c7841023b5a0"
      },
      "execution_count": 192,
      "outputs": [
        {
          "output_type": "execute_result",
          "data": {
            "text/plain": [
              "'A'"
            ],
            "application/vnd.google.colaboratory.intrinsic+json": {
              "type": "string"
            }
          },
          "metadata": {},
          "execution_count": 192
        }
      ]
    },
    {
      "cell_type": "code",
      "source": [
        "shift_by_letter(\"C\", \"J\")"
      ],
      "metadata": {
        "colab": {
          "base_uri": "https://localhost:8080/",
          "height": 35
        },
        "id": "FD29ROywa0MC",
        "outputId": "f8544858-fae3-4425-9f57-e13e40c56d63"
      },
      "execution_count": 193,
      "outputs": [
        {
          "output_type": "execute_result",
          "data": {
            "text/plain": [
              "'L'"
            ],
            "application/vnd.google.colaboratory.intrinsic+json": {
              "type": "string"
            }
          },
          "metadata": {},
          "execution_count": 193
        }
      ]
    },
    {
      "cell_type": "code",
      "source": [
        "vigenere_cipher(\"A C\", \"KEY\")"
      ],
      "metadata": {
        "colab": {
          "base_uri": "https://localhost:8080/",
          "height": 35
        },
        "id": "Uzuh72Rpa4d1",
        "outputId": "7cd1819c-aab1-473f-af43-503b7a308581"
      },
      "execution_count": 194,
      "outputs": [
        {
          "output_type": "execute_result",
          "data": {
            "text/plain": [
              "'K A'"
            ],
            "application/vnd.google.colaboratory.intrinsic+json": {
              "type": "string"
            }
          },
          "metadata": {},
          "execution_count": 194
        }
      ]
    },
    {
      "cell_type": "code",
      "source": [
        "vigenere_cipher(\"ILYSM\", \"YES\")"
      ],
      "metadata": {
        "colab": {
          "base_uri": "https://localhost:8080/",
          "height": 35
        },
        "id": "xpD758wGgeRB",
        "outputId": "a1951920-cdb9-408e-fad3-a5b6a9aef08e"
      },
      "execution_count": 195,
      "outputs": [
        {
          "output_type": "execute_result",
          "data": {
            "text/plain": [
              "'GPQQQ'"
            ],
            "application/vnd.google.colaboratory.intrinsic+json": {
              "type": "string"
            }
          },
          "metadata": {},
          "execution_count": 195
        }
      ]
    },
    {
      "cell_type": "code",
      "source": [
        "vigenere_cipher(\"I AM PRETTY\", \"LOVE\")"
      ],
      "metadata": {
        "colab": {
          "base_uri": "https://localhost:8080/",
          "height": 35
        },
        "id": "jGlrkvascAOP",
        "outputId": "dd0a6410-2591-4b65-ba7e-142ceabe3bc5"
      },
      "execution_count": 196,
      "outputs": [
        {
          "output_type": "execute_result",
          "data": {
            "text/plain": [
              "'T VQ DMIEHT'"
            ],
            "application/vnd.google.colaboratory.intrinsic+json": {
              "type": "string"
            }
          },
          "metadata": {},
          "execution_count": 196
        }
      ]
    }
  ]
}